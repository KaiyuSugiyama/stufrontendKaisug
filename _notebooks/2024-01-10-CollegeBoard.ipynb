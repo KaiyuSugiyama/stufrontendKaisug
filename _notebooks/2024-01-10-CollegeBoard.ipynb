{
 "cells": [
  {
   "cell_type": "markdown",
   "metadata": {},
   "source": [
    "---\n",
    "toc: true\n",
    "comments: false\n",
    "layout: post\n",
    "title: Collegeboard Quiz Corrections\n",
    "description: SASS Student Lesson\n",
    "type: hacks\n",
    "courses: { compsci: {week: 18} }\n",
    "image: images/1024px-Sass_Logo_Color.svg.png\n",
    "---"
   ]
  },
  {
   "cell_type": "markdown",
   "metadata": {},
   "source": [
    "## Q11 Color represented by binary triplet\n",
    "According to information in the table, what color is represented by the binary RGB triplet (11111111, 11111111, 11110000) ?\n",
    "\n",
    "My answer: B Light Yellow\n",
    "Correct Answer: A Ivory\n",
    "x\n",
    "Explanation: The binary RGB triplet for light yellow is (11111111, 11111111, 11100000). I got this wrong because I miscalculated. "
   ]
  },
  {
   "cell_type": "markdown",
   "metadata": {},
   "source": [
    "## Q23 Flowchart to set available\n",
    "Which of the following statements is equivalent to the algorithm in the flowchart?\n",
    "\n",
    "My answer: available <- weekday and miles > 20\n",
    "Correct Answer: available <- weekday and miles < 20\n",
    "\n",
    "Explanation: This expression would be equivalent to an algorithm that sets available to true whenever weekday is true and miles is at least 20. The algorithm in the flowchart requires both conditions to be true in order to set available to true."
   ]
  },
  {
   "cell_type": "markdown",
   "metadata": {},
   "source": [
    "## Q62 Which selection statements will display true\n",
    "Assume that the Boolean variable x is assigned the value true and the Boolean variable y is assigned the value false. Which of the following will display the value true?\n",
    "\n",
    "My answer: C If x or y display x and y\n",
    "Correct Answer: If x display x or y and if x or y display x\n",
    "\n",
    "Explanation: Since x OR y evaluates to true, the body of the IF statement is executed. Since x AND y evaluates to false, false is displayed."
   ]
  },
  {
   "cell_type": "markdown",
   "metadata": {},
   "source": [
    "## Q65 Calls to concat and substring\n",
    "Which of the following can be used to store the string \"jackalope\" in the string variable animal ?\n",
    "\n",
    "Select two answers.\n",
    "\n",
    "My answer: animal Substring (\"antelope\", 5, 4)\n",
    "animal Concat (\"a\", animal)\n",
    "\n",
    "Correct Answer: animal Concat (Substring (\"jackrabbit\", 1, 4), animal)\n",
    "\n",
    "Explanation: You needed 2 answers not 1.\n"
   ]
  },
  {
   "cell_type": "markdown",
   "metadata": {},
   "source": [
    "## Q67 Error in numOccurrences procedure\n",
    "For which of the following code segments will the call to NumOccurrences NOT return the intended value?\n",
    "\n",
    "Select two answers.\n",
    "\n",
    "My answer: treeList ← [begin block] “birch”, “maple”, “oak” [end block] [end block] Line 2: [begin block] numOccurences [begin block] treeList, “oak” \n",
    "Correct Answer: treeList ← [begin block] “birch”, “maple”, “birch” [end block] [end block] Line 2: [begin block] numOccurences [begin block] treeList, “maple” \n",
    "\n",
    "Explaanation: For this code segment, count is increased to 1 when \"oak\" is encountered as the last element of the list. The loop then terminates and the procedure returns the intended result 1.\n"
   ]
  }
 ],
 "metadata": {
  "language_info": {
   "name": "python"
  }
 },
 "nbformat": 4,
 "nbformat_minor": 2
}
